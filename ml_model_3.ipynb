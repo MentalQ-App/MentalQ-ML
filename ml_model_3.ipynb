{
 "cells": [
  {
   "cell_type": "markdown",
   "metadata": {},
   "source": [
    "# Import Library"
   ]
  },
  {
   "cell_type": "code",
   "execution_count": 1,
   "metadata": {},
   "outputs": [],
   "source": [
    "import pandas as pd\n",
    "import numpy as np\n",
    "import matplotlib.pyplot as plt\n",
    "import nltk\n",
    "import h5py"
   ]
  },
  {
   "cell_type": "markdown",
   "metadata": {},
   "source": [
    "# Pre-Trained Word2Vector"
   ]
  },
  {
   "cell_type": "code",
   "execution_count": 2,
   "metadata": {},
   "outputs": [],
   "source": [
    "vocab_size = 65908\n",
    "embedding_dim = 100\n",
    "max_sequence_length = 100"
   ]
  },
  {
   "cell_type": "code",
   "execution_count": 3,
   "metadata": {},
   "outputs": [
    {
     "data": {
      "text/html": [
       "<div>\n",
       "<style scoped>\n",
       "    .dataframe tbody tr th:only-of-type {\n",
       "        vertical-align: middle;\n",
       "    }\n",
       "\n",
       "    .dataframe tbody tr th {\n",
       "        vertical-align: top;\n",
       "    }\n",
       "\n",
       "    .dataframe thead th {\n",
       "        text-align: right;\n",
       "    }\n",
       "</style>\n",
       "<table border=\"1\" class=\"dataframe\">\n",
       "  <thead>\n",
       "    <tr style=\"text-align: right;\">\n",
       "      <th></th>\n",
       "      <th>statement</th>\n",
       "      <th>status</th>\n",
       "      <th>translated_statement</th>\n",
       "      <th>jumlah_kata</th>\n",
       "    </tr>\n",
       "  </thead>\n",
       "  <tbody>\n",
       "    <tr>\n",
       "      <th>0</th>\n",
       "      <td>oh my gosh</td>\n",
       "      <td>Anxiety</td>\n",
       "      <td>ampun</td>\n",
       "      <td>2</td>\n",
       "    </tr>\n",
       "    <tr>\n",
       "      <th>1</th>\n",
       "      <td>trouble sleeping, confused mind, restless hear...</td>\n",
       "      <td>Anxiety</td>\n",
       "      <td>susah tidur pikir kacau hati gelisah semua tak...</td>\n",
       "      <td>9</td>\n",
       "    </tr>\n",
       "    <tr>\n",
       "      <th>2</th>\n",
       "      <td>All wrong, back off dear, forward doubt. Stay ...</td>\n",
       "      <td>Anxiety</td>\n",
       "      <td>semua salah mundur lah sayang maju ragu tetapl...</td>\n",
       "      <td>15</td>\n",
       "    </tr>\n",
       "    <tr>\n",
       "      <th>3</th>\n",
       "      <td>I've shifted my focus to something else but I'...</td>\n",
       "      <td>Anxiety</td>\n",
       "      <td>alih fokusku khawatir</td>\n",
       "      <td>10</td>\n",
       "    </tr>\n",
       "    <tr>\n",
       "      <th>4</th>\n",
       "      <td>I'm restless and restless, it's been a month n...</td>\n",
       "      <td>Anxiety</td>\n",
       "      <td>gelisah gelisah sebul nak maksudmu</td>\n",
       "      <td>10</td>\n",
       "    </tr>\n",
       "  </tbody>\n",
       "</table>\n",
       "</div>"
      ],
      "text/plain": [
       "                                           statement   status  \\\n",
       "0                                         oh my gosh  Anxiety   \n",
       "1  trouble sleeping, confused mind, restless hear...  Anxiety   \n",
       "2  All wrong, back off dear, forward doubt. Stay ...  Anxiety   \n",
       "3  I've shifted my focus to something else but I'...  Anxiety   \n",
       "4  I'm restless and restless, it's been a month n...  Anxiety   \n",
       "\n",
       "                                translated_statement  jumlah_kata  \n",
       "0                                              ampun            2  \n",
       "1  susah tidur pikir kacau hati gelisah semua tak...            9  \n",
       "2  semua salah mundur lah sayang maju ragu tetapl...           15  \n",
       "3                              alih fokusku khawatir           10  \n",
       "4                 gelisah gelisah sebul nak maksudmu           10  "
      ]
     },
     "execution_count": 3,
     "metadata": {},
     "output_type": "execute_result"
    }
   ],
   "source": [
    "df_data = pd.read_csv('data/data_hasil_prepos.csv')\n",
    "\n",
    "df_data.head()"
   ]
  },
  {
   "cell_type": "code",
   "execution_count": 4,
   "metadata": {},
   "outputs": [],
   "source": [
    "from nltk.tokenize import word_tokenize\n",
    "\n",
    "df_data['tokenized'] = df_data['translated_statement'].astype(str).apply(word_tokenize)"
   ]
  },
  {
   "cell_type": "code",
   "execution_count": 5,
   "metadata": {},
   "outputs": [],
   "source": [
    "sentences = df_data['tokenized'].tolist()"
   ]
  },
  {
   "cell_type": "code",
   "execution_count": 6,
   "metadata": {},
   "outputs": [],
   "source": [
    "# Latih model Word2Vec\n",
    "from gensim.models import Word2Vec\n",
    "\n",
    "word2vec_model = Word2Vec(sentences, \n",
    "                          vector_size=max_sequence_length, \n",
    "                          window=10, \n",
    "                          min_count=1, \n",
    "                          workers=4)"
   ]
  },
  {
   "cell_type": "code",
   "execution_count": 7,
   "metadata": {},
   "outputs": [],
   "source": [
    "# Simpan Word2Vec model\n",
    "word2vec_model.save(\"model_word2vec/word2vec_model_MentalQ.model\")\n",
    "\n",
    "# Simpan embedding ke file .h5\n",
    "save_h5 = \"model_word2vec/word2vec_model_MentalQ.h5\"\n",
    "\n",
    "with h5py.File(save_h5, \"w\") as h5file:\n",
    "    h5file.create_dataset(\"vocab\", data=word2vec_model.wv.index_to_key, dtype=h5py.string_dtype(encoding='utf-8'))\n",
    "    h5file.create_dataset(\"vectors\", data=word2vec_model.wv.vectors)"
   ]
  },
  {
   "cell_type": "code",
   "execution_count": 8,
   "metadata": {},
   "outputs": [],
   "source": [
    "# Buat word_index dari Word2Vec\n",
    "word_index = {word: i + 1 for i, word in enumerate(word2vec_model.wv.index_to_key)}\n",
    "\n",
    "# Buat embedding matrix\n",
    "embedding_matrix = np.zeros((len(word_index) + 1, embedding_dim))\n",
    "for word, i in word_index.items():\n",
    "    embedding_vector = word2vec_model.wv[word]\n",
    "    if embedding_vector is not None:\n",
    "        embedding_matrix[i] = embedding_vector"
   ]
  },
  {
   "cell_type": "code",
   "execution_count": 9,
   "metadata": {},
   "outputs": [],
   "source": [
    "# Fungsi untuk mengonversi token menjadi indeks\n",
    "def text_to_sequence(tokens, word_index):\n",
    "    return [word_index[word] for word in tokens if word in word_index]\n",
    "\n",
    "# Ubah kolom 'tokenized' menjadi sequence\n",
    "df_data['sequence'] = df_data['tokenized'].apply(lambda x: text_to_sequence(x, word_index))"
   ]
  },
  {
   "cell_type": "code",
   "execution_count": 10,
   "metadata": {},
   "outputs": [
    {
     "name": "stdout",
     "output_type": "stream",
     "text": [
      "[[1047    0    0 ...    0    0    0]\n",
      " [1203   36   11 ...    0    0    0]\n",
      " [   9   64 1305 ...    0    0    0]\n",
      " ...\n",
      " [  33  187  743 ...    0    0    0]\n",
      " [ 250  275   33 ...    0    0    0]\n",
      " [  47   10  146 ...    0    0    0]]\n"
     ]
    }
   ],
   "source": [
    "# Padding sequence agar semua memiliki panjang yang sama\n",
    "from tensorflow.keras.preprocessing.sequence import pad_sequences\n",
    "\n",
    "padded_sequence = pad_sequences(df_data['sequence'], maxlen=max_sequence_length, padding='post')\n",
    "print(padded_sequence)"
   ]
  },
  {
   "cell_type": "code",
   "execution_count": 11,
   "metadata": {},
   "outputs": [
    {
     "name": "stdout",
     "output_type": "stream",
     "text": [
      "[0 0 0 ... 0 0 0]\n"
     ]
    }
   ],
   "source": [
    "from sklearn.preprocessing import LabelEncoder\n",
    "\n",
    "label_encoder = LabelEncoder()\n",
    "status_encoded = label_encoder.fit_transform(df_data['status'])\n",
    "print(status_encoded)"
   ]
  },
  {
   "cell_type": "code",
   "execution_count": 12,
   "metadata": {},
   "outputs": [
    {
     "name": "stdout",
     "output_type": "stream",
     "text": [
      "label: ['Anxiety' 'Bipolar' 'Depression' 'Normal' 'Personality disorder' 'Stress'\n",
      " 'Suicidal']\n",
      "Encoded value 0 -> label 'Anxiety'\n",
      "Encoded value 1 -> label 'Bipolar'\n",
      "Encoded value 2 -> label 'Depression'\n",
      "Encoded value 3 -> label 'Normal'\n",
      "Encoded value 4 -> label 'Personality disorder'\n",
      "Encoded value 5 -> label 'Stress'\n",
      "Encoded value 6 -> label 'Suicidal'\n"
     ]
    }
   ],
   "source": [
    "print(\"label:\", label_encoder.classes_)\n",
    "\n",
    "for encoded_value, class_label in zip(range(len(label_encoder.classes_)), label_encoder.classes_):\n",
    "    print(f\"Encoded value {encoded_value} -> label '{class_label}'\")"
   ]
  },
  {
   "cell_type": "markdown",
   "metadata": {},
   "source": [
    "# Data Preparation"
   ]
  },
  {
   "cell_type": "code",
   "execution_count": 13,
   "metadata": {},
   "outputs": [],
   "source": [
    "from sklearn.model_selection import train_test_split\n",
    "\n",
    "X_train, X_test, y_train, y_test = train_test_split(padded_sequence,\n",
    "                                                    status_encoded,\n",
    "                                                    test_size=0.2,\n",
    "                                                    random_state=60,\n",
    "                                                    stratify=status_encoded\n",
    "                                                    )"
   ]
  },
  {
   "cell_type": "code",
   "execution_count": 14,
   "metadata": {},
   "outputs": [
    {
     "name": "stdout",
     "output_type": "stream",
     "text": [
      "X train: (28230, 100)\n",
      "[[1761  126  969 ...    0    0    0]\n",
      " [  52  217 5926 ...    0    0    0]\n",
      " [ 267   22  511 ...    0    0    0]\n",
      " ...\n",
      " [ 294    0    0 ...    0    0    0]\n",
      " [ 115  231   25 ...    0    0    0]\n",
      " [ 221  221  318 ...    0    0    0]]\n",
      "\n",
      "X test: (7058, 100)\n",
      "[[  394 22294   358 ...     0     0     0]\n",
      " [   10    18   315 ...     0     0     0]\n",
      " [ 1934   316    29 ...     0     0     0]\n",
      " ...\n",
      " [14675   941     0 ...     0     0     0]\n",
      " [ 1709  3030   980 ...     0     0     0]\n",
      " [  227   961    39 ...     0     0     0]]\n",
      "\n",
      "y train: (28230,)\n",
      "[3 3 6 ... 3 2 3]\n",
      "\n",
      "y test: (7058,)\n",
      "[5 6 2 ... 3 2 5]\n"
     ]
    }
   ],
   "source": [
    "print(f'X train: {X_train.shape}\\n{X_train}\\n')\n",
    "print(f'X test: {X_test.shape}\\n{X_test}\\n')\n",
    "print(f'y train: {y_train.shape}\\n{y_train}\\n')\n",
    "print(f'y test: {y_test.shape}\\n{y_test}')"
   ]
  },
  {
   "cell_type": "code",
   "execution_count": 15,
   "metadata": {},
   "outputs": [
    {
     "name": "stdout",
     "output_type": "stream",
     "text": [
      "Distribusi dataset awal:\n",
      "3    0.449756\n",
      "2    0.224439\n",
      "6    0.182215\n",
      "0    0.055940\n",
      "5    0.046021\n",
      "1    0.030237\n",
      "4    0.011392\n",
      "Name: proportion, dtype: float64\n",
      "\n",
      "Distribusi di training set:\n",
      "3    0.449770\n",
      "2    0.224442\n",
      "6    0.182217\n",
      "0    0.055933\n",
      "5    0.046015\n",
      "1    0.030216\n",
      "4    0.011406\n",
      "Name: proportion, dtype: float64\n",
      "\n",
      "Distribusi di testing set:\n",
      "3    0.449702\n",
      "2    0.224426\n",
      "6    0.182205\n",
      "0    0.055965\n",
      "5    0.046047\n",
      "1    0.030320\n",
      "4    0.011335\n",
      "Name: proportion, dtype: float64\n"
     ]
    }
   ],
   "source": [
    "# Data distribusi di dataset awal\n",
    "print(\"Distribusi dataset awal:\")\n",
    "print(pd.Series(status_encoded).value_counts(normalize=True))\n",
    "\n",
    "# Data distribusi di training set\n",
    "print(\"\\nDistribusi di training set:\")\n",
    "print(pd.Series(y_train).value_counts(normalize=True))\n",
    "\n",
    "# Data distribusi di testing set\n",
    "print(\"\\nDistribusi di testing set:\")\n",
    "print(pd.Series(y_test).value_counts(normalize=True))"
   ]
  },
  {
   "cell_type": "code",
   "execution_count": 16,
   "metadata": {},
   "outputs": [
    {
     "data": {
      "image/png": "[encoded data removed]",
      "text/plain": [
       "<Figure size 640x480 with 1 Axes>"
      ]
     },
     "metadata": {},
     "output_type": "display_data"
    }
   ],
   "source": [
    "# Hitung distribusi kelas\n",
    "classes, counts_full = np.unique(status_encoded, return_counts=True)\n",
    "_, counts_train = np.unique(y_train, return_counts=True)\n",
    "_, counts_test = np.unique(y_test, return_counts=True)\n",
    "\n",
    "# Plot distribusi\n",
    "bar_width = 0.25\n",
    "x = np.arange(len(classes))\n",
    "\n",
    "plt.bar(x - bar_width, counts_full, width=bar_width, label=\"Dataset Awal\")\n",
    "plt.bar(x, counts_train, width=bar_width, label=\"Training Set\")\n",
    "plt.bar(x + bar_width, counts_test, width=bar_width, label=\"Testing Set\")\n",
    "\n",
    "plt.xlabel(\"Kelas\")\n",
    "plt.ylabel(\"Jumlah\")\n",
    "plt.title(\"Distribusi Kelas\")\n",
    "plt.xticks(x, classes)\n",
    "plt.legend()\n",
    "plt.show()"
   ]
  },
  {
   "cell_type": "markdown",
   "metadata": {},
   "source": [
    "# Modeling"
   ]
  },
  {
   "cell_type": "code",
   "execution_count": 17,
   "metadata": {},
   "outputs": [],
   "source": [
    "from tensorflow.keras import Sequential\n",
    "from tensorflow.keras.layers import Embedding, LSTM, Dense, Bidirectional, Dropout, BatchNormalization\n",
    "from keras.regularizers import l2\n",
    "from keras.optimizers import Adam\n",
    "from sklearn.utils.class_weight import compute_class_weight\n",
    "from tensorflow.keras.callbacks import Callback, EarlyStopping, ReduceLROnPlateau"
   ]
  },
  {
   "cell_type": "code",
   "execution_count": 18,
   "metadata": {},
   "outputs": [],
   "source": [
    "def create_model():\n",
    "    model = Sequential([\n",
    "        # Embedding Layer\n",
    "        Embedding(input_dim=len(word_index) + 1, \n",
    "                  output_dim=embedding_dim, \n",
    "                  weights=[embedding_matrix], \n",
    "                  input_length=max_sequence_length, \n",
    "                  trainable=True),\n",
    "\n",
    "        # Bidirectional LSTM Layer\n",
    "        Bidirectional(LSTM(192,\n",
    "                           kernel_regularizer=l2(0.005),\n",
    "                           return_sequences=False)),\n",
    "        Dropout(0.35),\n",
    "        BatchNormalization(),\n",
    "        \n",
    "        # Dense Layer 1\n",
    "        Dense(48, activation='tanh'),\n",
    "        Dropout(0.5),\n",
    "        BatchNormalization(),\n",
    "        \n",
    "        # Dense Layer 2\n",
    "        Dense(40, activation='tanh'),\n",
    "        Dropout(0.3),\n",
    "        BatchNormalization(),\n",
    "        \n",
    "        # Output Layer\n",
    "        Dense(7, activation='softmax')\n",
    "    ])\n",
    "\n",
    "    # Compile model dengan learning rate yang ditemukan oleh tuner\n",
    "    model.compile(optimizer=Adam(learning_rate=0.0001),\n",
    "                  loss='sparse_categorical_crossentropy',\n",
    "                  metrics=['accuracy'])\n",
    "    \n",
    "    return model"
   ]
  },
  {
   "cell_type": "code",
   "execution_count": 19,
   "metadata": {},
   "outputs": [],
   "source": [
    "# Callback akurasi 98%\n",
    "class SimpleEarlyStopping(Callback):\n",
    "    def __init__(self, target=0.98):\n",
    "        super().__init__()\n",
    "        self.target = target\n",
    "\n",
    "    def on_epoch_end(self, epoch, logs=None):\n",
    "        if logs.get('val_accuracy') >= self.target:\n",
    "            print(f\"\\nTarget val_accuracy = {self.target} tercapai pada epoch {epoch+1}. Training dihentikan.\")\n",
    "            self.model.stop_training = True"
   ]
  },
  {
   "cell_type": "code",
   "execution_count": 20,
   "metadata": {},
   "outputs": [],
   "source": [
    "# Callbacks\n",
    "early_stopping_accuracy = SimpleEarlyStopping(target=0.98)\n",
    "\n",
    "early_stopping_overfitting = EarlyStopping(\n",
    "    monitor='val_loss',\n",
    "    patience=5,\n",
    "    restore_best_weights=True\n",
    ")\n",
    "\n",
    "reduce_lr = ReduceLROnPlateau(\n",
    "    monitor='val_loss',\n",
    "    factor=0.5,\n",
    "    patience=3,\n",
    "    min_lr=1e-6\n",
    ")\n",
    "\n",
    "# Hitung class weights\n",
    "class_weights = compute_class_weight(\n",
    "    'balanced',\n",
    "    classes=np.unique(y_train),\n",
    "    y=y_train\n",
    ")\n",
    "class_weights = dict(enumerate(class_weights))"
   ]
  },
  {
   "cell_type": "code",
   "execution_count": 21,
   "metadata": {},
   "outputs": [
    {
     "name": "stderr",
     "output_type": "stream",
     "text": [
      "c:\\Users\\RafiAchmadfr\\AppData\\Local\\Programs\\Python\\Python312\\Lib\\site-packages\\keras\\src\\layers\\core\\embedding.py:90: UserWarning: Argument `input_length` is deprecated. Just remove it.\n",
      "  warnings.warn(\n"
     ]
    }
   ],
   "source": [
    "model = create_model()"
   ]
  },
  {
   "cell_type": "markdown",
   "metadata": {},
   "source": [
    "# Train & Evaluasi Model"
   ]
  },
  {
   "cell_type": "code",
   "execution_count": 22,
   "metadata": {},
   "outputs": [
    {
     "name": "stdout",
     "output_type": "stream",
     "text": [
      "Epoch 1/25\n",
      "\u001b[1m883/883\u001b[0m \u001b[32m━━━━━━━━━━━━━━━━━━━━\u001b[0m\u001b[37m\u001b[0m \u001b[1m124s\u001b[0m 128ms/step - accuracy: 0.2899 - loss: 3.4988 - val_accuracy: 0.5300 - val_loss: 2.2109 - learning_rate: 1.0000e-04\n",
      "Epoch 2/25\n",
      "\u001b[1m883/883\u001b[0m \u001b[32m━━━━━━━━━━━━━━━━━━━━\u001b[0m\u001b[37m\u001b[0m \u001b[1m111s\u001b[0m 126ms/step - accuracy: 0.4483 - loss: 2.5441 - val_accuracy: 0.5679 - val_loss: 1.9472 - learning_rate: 1.0000e-04\n",
      "Epoch 3/25\n",
      "\u001b[1m883/883\u001b[0m \u001b[32m━━━━━━━━━━━━━━━━━━━━\u001b[0m\u001b[37m\u001b[0m \u001b[1m119s\u001b[0m 135ms/step - accuracy: 0.4895 - loss: 2.2769 - val_accuracy: 0.5781 - val_loss: 1.7764 - learning_rate: 1.0000e-04\n",
      "Epoch 4/25\n",
      "\u001b[1m883/883\u001b[0m \u001b[32m━━━━━━━━━━━━━━━━━━━━\u001b[0m\u001b[37m\u001b[0m \u001b[1m115s\u001b[0m 131ms/step - accuracy: 0.5103 - loss: 2.0734 - val_accuracy: 0.5803 - val_loss: 1.6885 - learning_rate: 1.0000e-04\n",
      "Epoch 5/25\n",
      "\u001b[1m883/883\u001b[0m \u001b[32m━━━━━━━━━━━━━━━━━━━━\u001b[0m\u001b[37m\u001b[0m \u001b[1m115s\u001b[0m 130ms/step - accuracy: 0.5249 - loss: 1.9317 - val_accuracy: 0.5772 - val_loss: 1.6101 - learning_rate: 1.0000e-04\n",
      "Epoch 6/25\n",
      "\u001b[1m883/883\u001b[0m \u001b[32m━━━━━━━━━━━━━━━━━━━━\u001b[0m\u001b[37m\u001b[0m \u001b[1m117s\u001b[0m 132ms/step - accuracy: 0.5397 - loss: 1.8424 - val_accuracy: 0.5754 - val_loss: 1.5709 - learning_rate: 1.0000e-04\n",
      "Epoch 7/25\n",
      "\u001b[1m883/883\u001b[0m \u001b[32m━━━━━━━━━━━━━━━━━━━━\u001b[0m\u001b[37m\u001b[0m \u001b[1m115s\u001b[0m 130ms/step - accuracy: 0.5492 - loss: 1.7218 - val_accuracy: 0.6014 - val_loss: 1.4478 - learning_rate: 1.0000e-04\n",
      "Epoch 8/25\n",
      "\u001b[1m883/883\u001b[0m \u001b[32m━━━━━━━━━━━━━━━━━━━━\u001b[0m\u001b[37m\u001b[0m \u001b[1m114s\u001b[0m 129ms/step - accuracy: 0.5639 - loss: 1.6228 - val_accuracy: 0.6074 - val_loss: 1.4130 - learning_rate: 1.0000e-04\n",
      "Epoch 9/25\n",
      "\u001b[1m883/883\u001b[0m \u001b[32m━━━━━━━━━━━━━━━━━━━━\u001b[0m\u001b[37m\u001b[0m \u001b[1m116s\u001b[0m 131ms/step - accuracy: 0.5699 - loss: 1.5683 - val_accuracy: 0.6213 - val_loss: 1.3533 - learning_rate: 1.0000e-04\n",
      "Epoch 10/25\n",
      "\u001b[1m883/883\u001b[0m \u001b[32m━━━━━━━━━━━━━━━━━━━━\u001b[0m\u001b[37m\u001b[0m \u001b[1m118s\u001b[0m 133ms/step - accuracy: 0.5815 - loss: 1.5150 - val_accuracy: 0.6452 - val_loss: 1.2660 - learning_rate: 1.0000e-04\n",
      "Epoch 11/25\n",
      "\u001b[1m883/883\u001b[0m \u001b[32m━━━━━━━━━━━━━━━━━━━━\u001b[0m\u001b[37m\u001b[0m \u001b[1m115s\u001b[0m 130ms/step - accuracy: 0.5960 - loss: 1.4219 - val_accuracy: 0.6410 - val_loss: 1.2717 - learning_rate: 1.0000e-04\n",
      "Epoch 12/25\n",
      "\u001b[1m883/883\u001b[0m \u001b[32m━━━━━━━━━━━━━━━━━━━━\u001b[0m\u001b[37m\u001b[0m \u001b[1m116s\u001b[0m 132ms/step - accuracy: 0.6079 - loss: 1.4095 - val_accuracy: 0.6299 - val_loss: 1.3218 - learning_rate: 1.0000e-04\n",
      "Epoch 13/25\n",
      "\u001b[1m883/883\u001b[0m \u001b[32m━━━━━━━━━━━━━━━━━━━━\u001b[0m\u001b[37m\u001b[0m \u001b[1m118s\u001b[0m 134ms/step - accuracy: 0.6260 - loss: 1.3348 - val_accuracy: 0.6547 - val_loss: 1.2347 - learning_rate: 1.0000e-04\n",
      "Epoch 14/25\n",
      "\u001b[1m883/883\u001b[0m \u001b[32m━━━━━━━━━━━━━━━━━━━━\u001b[0m\u001b[37m\u001b[0m \u001b[1m117s\u001b[0m 132ms/step - accuracy: 0.6301 - loss: 1.2838 - val_accuracy: 0.6720 - val_loss: 1.1476 - learning_rate: 1.0000e-04\n",
      "Epoch 15/25\n",
      "\u001b[1m883/883\u001b[0m \u001b[32m━━━━━━━━━━━━━━━━━━━━\u001b[0m\u001b[37m\u001b[0m \u001b[1m119s\u001b[0m 135ms/step - accuracy: 0.6399 - loss: 1.2380 - val_accuracy: 0.6430 - val_loss: 1.2763 - learning_rate: 1.0000e-04\n",
      "Epoch 16/25\n",
      "\u001b[1m883/883\u001b[0m \u001b[32m━━━━━━━━━━━━━━━━━━━━\u001b[0m\u001b[37m\u001b[0m \u001b[1m119s\u001b[0m 134ms/step - accuracy: 0.6495 - loss: 1.2005 - val_accuracy: 0.6672 - val_loss: 1.2006 - learning_rate: 1.0000e-04\n",
      "Epoch 17/25\n",
      "\u001b[1m883/883\u001b[0m \u001b[32m━━━━━━━━━━━━━━━━━━━━\u001b[0m\u001b[37m\u001b[0m \u001b[1m115s\u001b[0m 130ms/step - accuracy: 0.6609 - loss: 1.1150 - val_accuracy: 0.6527 - val_loss: 1.2094 - learning_rate: 1.0000e-04\n",
      "Epoch 18/25\n",
      "\u001b[1m883/883\u001b[0m \u001b[32m━━━━━━━━━━━━━━━━━━━━\u001b[0m\u001b[37m\u001b[0m \u001b[1m119s\u001b[0m 135ms/step - accuracy: 0.6679 - loss: 1.0615 - val_accuracy: 0.6672 - val_loss: 1.1880 - learning_rate: 5.0000e-05\n",
      "Epoch 19/25\n",
      "\u001b[1m883/883\u001b[0m \u001b[32m━━━━━━━━━━━━━━━━━━━━\u001b[0m\u001b[37m\u001b[0m \u001b[1m120s\u001b[0m 135ms/step - accuracy: 0.6828 - loss: 1.0242 - val_accuracy: 0.6685 - val_loss: 1.1582 - learning_rate: 5.0000e-05\n",
      "Epoch 20/25\n",
      "\u001b[1m883/883\u001b[0m \u001b[32m━━━━━━━━━━━━━━━━━━━━\u001b[0m\u001b[37m\u001b[0m \u001b[1m115s\u001b[0m 131ms/step - accuracy: 0.6821 - loss: 1.0262 - val_accuracy: 0.6884 - val_loss: 1.1184 - learning_rate: 5.0000e-05\n",
      "Epoch 21/25\n",
      "\u001b[1m883/883\u001b[0m \u001b[32m━━━━━━━━━━━━━━━━━━━━\u001b[0m\u001b[37m\u001b[0m \u001b[1m120s\u001b[0m 136ms/step - accuracy: 0.6919 - loss: 0.9992 - val_accuracy: 0.6757 - val_loss: 1.1418 - learning_rate: 5.0000e-05\n",
      "Epoch 22/25\n",
      "\u001b[1m883/883\u001b[0m \u001b[32m━━━━━━━━━━━━━━━━━━━━\u001b[0m\u001b[37m\u001b[0m \u001b[1m132s\u001b[0m 149ms/step - accuracy: 0.7006 - loss: 0.9545 - val_accuracy: 0.6849 - val_loss: 1.1090 - learning_rate: 5.0000e-05\n",
      "Epoch 23/25\n",
      "\u001b[1m883/883\u001b[0m \u001b[32m━━━━━━━━━━━━━━━━━━━━\u001b[0m\u001b[37m\u001b[0m \u001b[1m135s\u001b[0m 153ms/step - accuracy: 0.6966 - loss: 0.9578 - val_accuracy: 0.6506 - val_loss: 1.2363 - learning_rate: 5.0000e-05\n",
      "Epoch 24/25\n",
      "\u001b[1m883/883\u001b[0m \u001b[32m━━━━━━━━━━━━━━━━━━━━\u001b[0m\u001b[37m\u001b[0m \u001b[1m135s\u001b[0m 153ms/step - accuracy: 0.7064 - loss: 0.9072 - val_accuracy: 0.6693 - val_loss: 1.2037 - learning_rate: 5.0000e-05\n",
      "Epoch 25/25\n",
      "\u001b[1m883/883\u001b[0m \u001b[32m━━━━━━━━━━━━━━━━━━━━\u001b[0m\u001b[37m\u001b[0m \u001b[1m138s\u001b[0m 156ms/step - accuracy: 0.7100 - loss: 0.8963 - val_accuracy: 0.6856 - val_loss: 1.1230 - learning_rate: 5.0000e-05\n"
     ]
    }
   ],
   "source": [
    "history = model.fit(\n",
    "    X_train, y_train,\n",
    "    validation_data=(X_test, y_test),\n",
    "    epochs=25,\n",
    "    batch_size=32,\n",
    "    callbacks=[reduce_lr],\n",
    "    class_weight=class_weights\n",
    ")"
   ]
  },
  {
   "cell_type": "code",
   "execution_count": 26,
   "metadata": {},
   "outputs": [
    {
     "data": {
      "text/html": [
       "<pre style=\"white-space:pre;overflow-x:auto;line-height:normal;font-family:Menlo,'DejaVu Sans Mono',consolas,'Courier New',monospace\"><span style=\"font-weight: bold\">Model: \"sequential\"</span>\n",
       "</pre>\n"
      ],
      "text/plain": [
       "\u001b[1mModel: \"sequential\"\u001b[0m\n"
      ]
     },
     "metadata": {},
     "output_type": "display_data"
    },
    {
     "data": {
      "text/html": [
       "<pre style=\"white-space:pre;overflow-x:auto;line-height:normal;font-family:Menlo,'DejaVu Sans Mono',consolas,'Courier New',monospace\">┏━━━━━━━━━━━━━━━━━━━━━━━━━━━━━━━━━┳━━━━━━━━━━━━━━━━━━━━━━━━┳━━━━━━━━━━━━━━━┓\n",
       "┃<span style=\"font-weight: bold\"> Layer (type)                    </span>┃<span style=\"font-weight: bold\"> Output Shape           </span>┃<span style=\"font-weight: bold\">       Param # </span>┃\n",
       "┡━━━━━━━━━━━━━━━━━━━━━━━━━━━━━━━━━╇━━━━━━━━━━━━━━━━━━━━━━━━╇━━━━━━━━━━━━━━━┩\n",
       "│ embedding (<span style=\"color: #0087ff; text-decoration-color: #0087ff\">Embedding</span>)           │ (<span style=\"color: #00d7ff; text-decoration-color: #00d7ff\">None</span>, <span style=\"color: #00af00; text-decoration-color: #00af00\">100</span>, <span style=\"color: #00af00; text-decoration-color: #00af00\">100</span>)       │     <span style=\"color: #00af00; text-decoration-color: #00af00\">2,791,600</span> │\n",
       "├─────────────────────────────────┼────────────────────────┼───────────────┤\n",
       "│ bidirectional (<span style=\"color: #0087ff; text-decoration-color: #0087ff\">Bidirectional</span>)   │ (<span style=\"color: #00d7ff; text-decoration-color: #00d7ff\">None</span>, <span style=\"color: #00af00; text-decoration-color: #00af00\">384</span>)            │       <span style=\"color: #00af00; text-decoration-color: #00af00\">450,048</span> │\n",
       "├─────────────────────────────────┼────────────────────────┼───────────────┤\n",
       "│ dropout (<span style=\"color: #0087ff; text-decoration-color: #0087ff\">Dropout</span>)               │ (<span style=\"color: #00d7ff; text-decoration-color: #00d7ff\">None</span>, <span style=\"color: #00af00; text-decoration-color: #00af00\">384</span>)            │             <span style=\"color: #00af00; text-decoration-color: #00af00\">0</span> │\n",
       "├─────────────────────────────────┼────────────────────────┼───────────────┤\n",
       "│ batch_normalization             │ (<span style=\"color: #00d7ff; text-decoration-color: #00d7ff\">None</span>, <span style=\"color: #00af00; text-decoration-color: #00af00\">384</span>)            │         <span style=\"color: #00af00; text-decoration-color: #00af00\">1,536</span> │\n",
       "│ (<span style=\"color: #0087ff; text-decoration-color: #0087ff\">BatchNormalization</span>)            │                        │               │\n",
       "├─────────────────────────────────┼────────────────────────┼───────────────┤\n",
       "│ dense (<span style=\"color: #0087ff; text-decoration-color: #0087ff\">Dense</span>)                   │ (<span style=\"color: #00d7ff; text-decoration-color: #00d7ff\">None</span>, <span style=\"color: #00af00; text-decoration-color: #00af00\">48</span>)             │        <span style=\"color: #00af00; text-decoration-color: #00af00\">18,480</span> │\n",
       "├─────────────────────────────────┼────────────────────────┼───────────────┤\n",
       "│ dropout_1 (<span style=\"color: #0087ff; text-decoration-color: #0087ff\">Dropout</span>)             │ (<span style=\"color: #00d7ff; text-decoration-color: #00d7ff\">None</span>, <span style=\"color: #00af00; text-decoration-color: #00af00\">48</span>)             │             <span style=\"color: #00af00; text-decoration-color: #00af00\">0</span> │\n",
       "├─────────────────────────────────┼────────────────────────┼───────────────┤\n",
       "│ batch_normalization_1           │ (<span style=\"color: #00d7ff; text-decoration-color: #00d7ff\">None</span>, <span style=\"color: #00af00; text-decoration-color: #00af00\">48</span>)             │           <span style=\"color: #00af00; text-decoration-color: #00af00\">192</span> │\n",
       "│ (<span style=\"color: #0087ff; text-decoration-color: #0087ff\">BatchNormalization</span>)            │                        │               │\n",
       "├─────────────────────────────────┼────────────────────────┼───────────────┤\n",
       "│ dense_1 (<span style=\"color: #0087ff; text-decoration-color: #0087ff\">Dense</span>)                 │ (<span style=\"color: #00d7ff; text-decoration-color: #00d7ff\">None</span>, <span style=\"color: #00af00; text-decoration-color: #00af00\">40</span>)             │         <span style=\"color: #00af00; text-decoration-color: #00af00\">1,960</span> │\n",
       "├─────────────────────────────────┼────────────────────────┼───────────────┤\n",
       "│ dropout_2 (<span style=\"color: #0087ff; text-decoration-color: #0087ff\">Dropout</span>)             │ (<span style=\"color: #00d7ff; text-decoration-color: #00d7ff\">None</span>, <span style=\"color: #00af00; text-decoration-color: #00af00\">40</span>)             │             <span style=\"color: #00af00; text-decoration-color: #00af00\">0</span> │\n",
       "├─────────────────────────────────┼────────────────────────┼───────────────┤\n",
       "│ batch_normalization_2           │ (<span style=\"color: #00d7ff; text-decoration-color: #00d7ff\">None</span>, <span style=\"color: #00af00; text-decoration-color: #00af00\">40</span>)             │           <span style=\"color: #00af00; text-decoration-color: #00af00\">160</span> │\n",
       "│ (<span style=\"color: #0087ff; text-decoration-color: #0087ff\">BatchNormalization</span>)            │                        │               │\n",
       "├─────────────────────────────────┼────────────────────────┼───────────────┤\n",
       "│ dense_2 (<span style=\"color: #0087ff; text-decoration-color: #0087ff\">Dense</span>)                 │ (<span style=\"color: #00d7ff; text-decoration-color: #00d7ff\">None</span>, <span style=\"color: #00af00; text-decoration-color: #00af00\">7</span>)              │           <span style=\"color: #00af00; text-decoration-color: #00af00\">287</span> │\n",
       "└─────────────────────────────────┴────────────────────────┴───────────────┘\n",
       "</pre>\n"
      ],
      "text/plain": [
       "┏━━━━━━━━━━━━━━━━━━━━━━━━━━━━━━━━━┳━━━━━━━━━━━━━━━━━━━━━━━━┳━━━━━━━━━━━━━━━┓\n",
       "┃\u001b[1m \u001b[0m\u001b[1mLayer (type)                   \u001b[0m\u001b[1m \u001b[0m┃\u001b[1m \u001b[0m\u001b[1mOutput Shape          \u001b[0m\u001b[1m \u001b[0m┃\u001b[1m \u001b[0m\u001b[1m      Param #\u001b[0m\u001b[1m \u001b[0m┃\n",
       "┡━━━━━━━━━━━━━━━━━━━━━━━━━━━━━━━━━╇━━━━━━━━━━━━━━━━━━━━━━━━╇━━━━━━━━━━━━━━━┩\n",
       "│ embedding (\u001b[38;5;33mEmbedding\u001b[0m)           │ (\u001b[38;5;45mNone\u001b[0m, \u001b[38;5;34m100\u001b[0m, \u001b[38;5;34m100\u001b[0m)       │     \u001b[38;5;34m2,791,600\u001b[0m │\n",
       "├─────────────────────────────────┼────────────────────────┼───────────────┤\n",
       "│ bidirectional (\u001b[38;5;33mBidirectional\u001b[0m)   │ (\u001b[38;5;45mNone\u001b[0m, \u001b[38;5;34m384\u001b[0m)            │       \u001b[38;5;34m450,048\u001b[0m │\n",
       "├─────────────────────────────────┼────────────────────────┼───────────────┤\n",
       "│ dropout (\u001b[38;5;33mDropout\u001b[0m)               │ (\u001b[38;5;45mNone\u001b[0m, \u001b[38;5;34m384\u001b[0m)            │             \u001b[38;5;34m0\u001b[0m │\n",
       "├─────────────────────────────────┼────────────────────────┼───────────────┤\n",
       "│ batch_normalization             │ (\u001b[38;5;45mNone\u001b[0m, \u001b[38;5;34m384\u001b[0m)            │         \u001b[38;5;34m1,536\u001b[0m │\n",
       "│ (\u001b[38;5;33mBatchNormalization\u001b[0m)            │                        │               │\n",
       "├─────────────────────────────────┼────────────────────────┼───────────────┤\n",
       "│ dense (\u001b[38;5;33mDense\u001b[0m)                   │ (\u001b[38;5;45mNone\u001b[0m, \u001b[38;5;34m48\u001b[0m)             │        \u001b[38;5;34m18,480\u001b[0m │\n",
       "├─────────────────────────────────┼────────────────────────┼───────────────┤\n",
       "│ dropout_1 (\u001b[38;5;33mDropout\u001b[0m)             │ (\u001b[38;5;45mNone\u001b[0m, \u001b[38;5;34m48\u001b[0m)             │             \u001b[38;5;34m0\u001b[0m │\n",
       "├─────────────────────────────────┼────────────────────────┼───────────────┤\n",
       "│ batch_normalization_1           │ (\u001b[38;5;45mNone\u001b[0m, \u001b[38;5;34m48\u001b[0m)             │           \u001b[38;5;34m192\u001b[0m │\n",
       "│ (\u001b[38;5;33mBatchNormalization\u001b[0m)            │                        │               │\n",
       "├─────────────────────────────────┼────────────────────────┼───────────────┤\n",
       "│ dense_1 (\u001b[38;5;33mDense\u001b[0m)                 │ (\u001b[38;5;45mNone\u001b[0m, \u001b[38;5;34m40\u001b[0m)             │         \u001b[38;5;34m1,960\u001b[0m │\n",
       "├─────────────────────────────────┼────────────────────────┼───────────────┤\n",
       "│ dropout_2 (\u001b[38;5;33mDropout\u001b[0m)             │ (\u001b[38;5;45mNone\u001b[0m, \u001b[38;5;34m40\u001b[0m)             │             \u001b[38;5;34m0\u001b[0m │\n",
       "├─────────────────────────────────┼────────────────────────┼───────────────┤\n",
       "│ batch_normalization_2           │ (\u001b[38;5;45mNone\u001b[0m, \u001b[38;5;34m40\u001b[0m)             │           \u001b[38;5;34m160\u001b[0m │\n",
       "│ (\u001b[38;5;33mBatchNormalization\u001b[0m)            │                        │               │\n",
       "├─────────────────────────────────┼────────────────────────┼───────────────┤\n",
       "│ dense_2 (\u001b[38;5;33mDense\u001b[0m)                 │ (\u001b[38;5;45mNone\u001b[0m, \u001b[38;5;34m7\u001b[0m)              │           \u001b[38;5;34m287\u001b[0m │\n",
       "└─────────────────────────────────┴────────────────────────┴───────────────┘\n"
      ]
     },
     "metadata": {},
     "output_type": "display_data"
    },
    {
     "data": {
      "text/html": [
       "<pre style=\"white-space:pre;overflow-x:auto;line-height:normal;font-family:Menlo,'DejaVu Sans Mono',consolas,'Courier New',monospace\"><span style=\"font-weight: bold\"> Total params: </span><span style=\"color: #00af00; text-decoration-color: #00af00\">9,790,903</span> (37.35 MB)\n",
       "</pre>\n"
      ],
      "text/plain": [
       "\u001b[1m Total params: \u001b[0m\u001b[38;5;34m9,790,903\u001b[0m (37.35 MB)\n"
      ]
     },
     "metadata": {},
     "output_type": "display_data"
    },
    {
     "data": {
      "text/html": [
       "<pre style=\"white-space:pre;overflow-x:auto;line-height:normal;font-family:Menlo,'DejaVu Sans Mono',consolas,'Courier New',monospace\"><span style=\"font-weight: bold\"> Trainable params: </span><span style=\"color: #00af00; text-decoration-color: #00af00\">3,263,319</span> (12.45 MB)\n",
       "</pre>\n"
      ],
      "text/plain": [
       "\u001b[1m Trainable params: \u001b[0m\u001b[38;5;34m3,263,319\u001b[0m (12.45 MB)\n"
      ]
     },
     "metadata": {},
     "output_type": "display_data"
    },
    {
     "data": {
      "text/html": [
       "<pre style=\"white-space:pre;overflow-x:auto;line-height:normal;font-family:Menlo,'DejaVu Sans Mono',consolas,'Courier New',monospace\"><span style=\"font-weight: bold\"> Non-trainable params: </span><span style=\"color: #00af00; text-decoration-color: #00af00\">944</span> (3.69 KB)\n",
       "</pre>\n"
      ],
      "text/plain": [
       "\u001b[1m Non-trainable params: \u001b[0m\u001b[38;5;34m944\u001b[0m (3.69 KB)\n"
      ]
     },
     "metadata": {},
     "output_type": "display_data"
    },
    {
     "data": {
      "text/html": [
       "<pre style=\"white-space:pre;overflow-x:auto;line-height:normal;font-family:Menlo,'DejaVu Sans Mono',consolas,'Courier New',monospace\"><span style=\"font-weight: bold\"> Optimizer params: </span><span style=\"color: #00af00; text-decoration-color: #00af00\">6,526,640</span> (24.90 MB)\n",
       "</pre>\n"
      ],
      "text/plain": [
       "\u001b[1m Optimizer params: \u001b[0m\u001b[38;5;34m6,526,640\u001b[0m (24.90 MB)\n"
      ]
     },
     "metadata": {},
     "output_type": "display_data"
    }
   ],
   "source": [
    "model.summary()"
   ]
  },
  {
   "cell_type": "code",
   "execution_count": 27,
   "metadata": {},
   "outputs": [
    {
     "data": {
      "image/png": "[encoded data removed]",
      "text/plain": [
       "<Figure size 1000x500 with 2 Axes>"
      ]
     },
     "metadata": {},
     "output_type": "display_data"
    }
   ],
   "source": [
    "import matplotlib.pyplot as plt\n",
    "\n",
    "ig, axes = plt.subplots(1, 2, figsize=(10, 5))\n",
    "\n",
    "# Plot Loss\n",
    "axes[0].plot(history.history['loss'], label='Training Loss')\n",
    "axes[0].plot(history.history['val_loss'], label='Validation Loss')\n",
    "axes[0].set_title('Model Loss')\n",
    "axes[0].set_xlabel('Epochs')\n",
    "axes[0].set_ylabel('Loss')\n",
    "axes[0].legend()\n",
    "\n",
    "# Plot Accuracy\n",
    "axes[1].plot(history.history['accuracy'], label='Training Accuracy')\n",
    "axes[1].plot(history.history['val_accuracy'], label='Validation Accuracy')\n",
    "axes[1].set_title('Model Accuracy')\n",
    "axes[1].set_xlabel('Epochs')\n",
    "axes[1].set_ylabel('Accuracy')\n",
    "axes[1].legend()\n",
    "\n",
    "# Menampilkan subplot\n",
    "plt.tight_layout()\n",
    "plt.show()"
   ]
  },
  {
   "cell_type": "code",
   "execution_count": 28,
   "metadata": {},
   "outputs": [
    {
     "name": "stderr",
     "output_type": "stream",
     "text": [
      "WARNING:absl:You are saving your model as an HDF5 file via `model.save()` or `keras.saving.save_model(model)`. This file format is considered legacy. We recommend using instead the native Keras format, e.g. `model.save('my_model.keras')` or `keras.saving.save_model(model, 'my_model.keras')`. \n"
     ]
    }
   ],
   "source": [
    "model.save('model_lstm/ml_model.h5')"
   ]
  }
 ],
 "metadata": {
  "kernelspec": {
   "display_name": "Python 3",
   "language": "python",
   "name": "python3"
  },
  "language_info": {
   "codemirror_mode": {
    "name": "ipython",
    "version": 3
   },
   "file_extension": ".py",
   "mimetype": "text/x-python",
   "name": "python",
   "nbconvert_exporter": "python",
   "pygments_lexer": "ipython3",
   "version": "3.12.6"
  }
 },
 "nbformat": 4,
 "nbformat_minor": 2
}
